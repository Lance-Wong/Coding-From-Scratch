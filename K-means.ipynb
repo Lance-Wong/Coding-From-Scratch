{
 "cells": [
  {
   "cell_type": "markdown",
   "metadata": {},
   "source": [
    "#  What is K-means?\n",
    "\n",
    "K-means clustering is an unsupervised clustering technique that assigns data points into groups based on distance. By using the K-means algorithm on a dataset, you can create labels for given data points as well as understand features of labels.\n",
    "\n",
    "K-means is part of the **Expectation Maximization** algorithm family, and is a special case of Gaussian Mixture Models where covariance and variance are not taken into account.\n",
    "\n",
    "K-means also uses hard clustering- we are assigning a label to a given data point vs a distribution of probabilities (GMM).\n",
    "\n",
    "Why use K-means?\n",
    "1. Fairly easy and quick to use/implement, uses Euclidean distances to find similarities\n",
    "2. Good for segmentation, anomaly detection, object categorization \n",
    "3. Centroids are relatively interpretable as they are just the mean values of its labeled data points\n",
    "4. We can use k-means clustering for feature engineering/dimensionality reduction\n",
    "\n",
    "Where does K-means fall short? \n",
    "1. K-means implies a spherical cluster, as it uses Euclidean Distance to group data points\n",
    "2. K-means requires a specified number of clusters at initiation\n",
    "3. Heavily influenced by outliers on the dataset (Can be countered by K-medians clustering)\n",
    "4. Depending on Centroid initialization, K-means will have different solutions.\n",
    "5. Hard clustering may lead to mislabeled data points.\n",
    "   \n",
    "\n",
    "Kmeans is an iterative process that follows the following process:  \n",
    "**Setup**    \n",
    "    1. Pick *k*-random points in the feature space. We will call these points \"centroids\".  \n",
    "**Assign Labels**  \n",
    "    2. For each point in the dataset, calcuate the Euclidean distance from each point to each centroid. From these cluster distances, assign a label (*0,1,2,...k*) to the data point where the distance between the data point and the centroid is the shortest.  \n",
    "**Update Centroids**  \n",
    "    3. Now that each label has a \"cluster\" of data points, we sum the distances for each data point to its corresponding label. This is known as _inertia_ or _distortion_, and we are now going to try to minimize this score going forward.\n",
    "    4. We then take the average each feature across the datapoints and move the centroid to that average in the feature space.\n",
    "    5. Repeat steps 2-4 until _inertia_ does not deviate from the previous iteration by a predetermined margin, or by a predetermined number of iterations.\n",
    "\n",
    "Let's try to build the K-means algorithm from scratch, using the Iris Dataset. We will then compare the clustering results from K-means to actual labels from the dataset."
   ]
  },
  {
   "cell_type": "code",
   "execution_count": 126,
   "metadata": {},
   "outputs": [
    {
     "name": "stdout",
     "output_type": "stream",
     "text": [
      "Populating the interactive namespace from numpy and matplotlib\n"
     ]
    },
    {
     "data": {
      "text/html": [
       "<div>\n",
       "<style scoped>\n",
       "    .dataframe tbody tr th:only-of-type {\n",
       "        vertical-align: middle;\n",
       "    }\n",
       "\n",
       "    .dataframe tbody tr th {\n",
       "        vertical-align: top;\n",
       "    }\n",
       "\n",
       "    .dataframe thead th {\n",
       "        text-align: right;\n",
       "    }\n",
       "</style>\n",
       "<table border=\"1\" class=\"dataframe\">\n",
       "  <thead>\n",
       "    <tr style=\"text-align: right;\">\n",
       "      <th></th>\n",
       "      <th>0</th>\n",
       "      <th>1</th>\n",
       "      <th>2</th>\n",
       "      <th>3</th>\n",
       "      <th>4</th>\n",
       "    </tr>\n",
       "  </thead>\n",
       "  <tbody>\n",
       "    <tr>\n",
       "      <th>0</th>\n",
       "      <td>5.1</td>\n",
       "      <td>3.5</td>\n",
       "      <td>1.4</td>\n",
       "      <td>0.2</td>\n",
       "      <td>Iris-setosa</td>\n",
       "    </tr>\n",
       "    <tr>\n",
       "      <th>1</th>\n",
       "      <td>4.9</td>\n",
       "      <td>3.0</td>\n",
       "      <td>1.4</td>\n",
       "      <td>0.2</td>\n",
       "      <td>Iris-setosa</td>\n",
       "    </tr>\n",
       "    <tr>\n",
       "      <th>2</th>\n",
       "      <td>4.7</td>\n",
       "      <td>3.2</td>\n",
       "      <td>1.3</td>\n",
       "      <td>0.2</td>\n",
       "      <td>Iris-setosa</td>\n",
       "    </tr>\n",
       "    <tr>\n",
       "      <th>3</th>\n",
       "      <td>4.6</td>\n",
       "      <td>3.1</td>\n",
       "      <td>1.5</td>\n",
       "      <td>0.2</td>\n",
       "      <td>Iris-setosa</td>\n",
       "    </tr>\n",
       "    <tr>\n",
       "      <th>4</th>\n",
       "      <td>5.0</td>\n",
       "      <td>3.6</td>\n",
       "      <td>1.4</td>\n",
       "      <td>0.2</td>\n",
       "      <td>Iris-setosa</td>\n",
       "    </tr>\n",
       "  </tbody>\n",
       "</table>\n",
       "</div>"
      ],
      "text/plain": [
       "     0    1    2    3            4\n",
       "0  5.1  3.5  1.4  0.2  Iris-setosa\n",
       "1  4.9  3.0  1.4  0.2  Iris-setosa\n",
       "2  4.7  3.2  1.3  0.2  Iris-setosa\n",
       "3  4.6  3.1  1.5  0.2  Iris-setosa\n",
       "4  5.0  3.6  1.4  0.2  Iris-setosa"
      ]
     },
     "execution_count": 126,
     "metadata": {},
     "output_type": "execute_result"
    }
   ],
   "source": [
    "import numpy as np\n",
    "import pandas as pd\n",
    "import seaborn as sns\n",
    "from sklearn.metrics import silhouette_score\n",
    "%pylab inline\n",
    "\n",
    "link = \"https://archive.ics.uci.edu/ml/machine-learning-databases/iris/iris.data\"\n",
    "df=pd.read_csv(link,header=None)\n",
    "data=df.drop(columns=[4])\n",
    "data=data.as_matrix()\n",
    "df.head()"
   ]
  },
  {
   "cell_type": "markdown",
   "metadata": {},
   "source": [
    "Let's write a distance function instead of importing pairwise distance function."
   ]
  },
  {
   "cell_type": "code",
   "execution_count": 107,
   "metadata": {},
   "outputs": [],
   "source": [
    "def euclideanDistance(x1,x2,axis):\n",
    "    return np.sum((x1-x2)**2,axis=axis)"
   ]
  },
  {
   "cell_type": "code",
   "execution_count": 111,
   "metadata": {},
   "outputs": [],
   "source": [
    "from copy import deepcopy\n",
    "class Kmeans():\n",
    "    def __init__(self,k):\n",
    "        self.k = k\n",
    "        self.margin=0.0001 #sci-kit learn \n",
    "        self.inertia=[]\n",
    "        \n",
    "    def fit(self,data):\n",
    "        '''Initialize k centroids'''\n",
    "        centroids= data[np.random.choice(len(data),self.k,replace=False)] \n",
    "        margin=1 # set an arbitrary margin that we will continuously update until margin falls below our specified number\n",
    "        \n",
    "        while margin>self.margin:\n",
    "            distances=np.array([euclideanDistance(data,y,1) for y in centroids]).T #calculate all distances to centroids\n",
    "            cluster_label=np.argmin(distances,axis=1) #assign cluster labels through shortest distance\n",
    "            inertia_score= sum([euclideanDistance(feat,centroids[cluster_label[i]],0) for i, feat in enumerate(data)])\n",
    "            self.inertia.append(inertia_score)\n",
    "            centroids_old = deepcopy(centroids)#create a copy of centroids to compare difference\n",
    "            for i in range(self.k):\n",
    "                points=[y for index,y in enumerate(data) if cluster_label[index]==i]\n",
    "                centroids[i]= np.mean(points,axis=0) #update new centroids\n",
    "            margin=sum(euclideanDistance(centroids_old,centroids,0)) #update margin and proceed to next iteration if applicable\n",
    "        \n",
    "        self.centroids=centroids\n",
    "        self.cluster_label=cluster_label\n",
    "    def centroids(self):\n",
    "        return self.centroids\n",
    "    def inertia(self):\n",
    "        return self.inertia\n",
    "    def clusters(self):\n",
    "        return self.cluster_label\n",
    "    def SSE(self):\n",
    "        return(self.inertia[-1])"
   ]
  },
  {
   "cell_type": "markdown",
   "metadata": {},
   "source": [
    "Let's test the inertia as we go through multiple iterations:  \n",
    "SSE starts approaching its minimum after 6 iterations."
   ]
  },
  {
   "cell_type": "code",
   "execution_count": 114,
   "metadata": {},
   "outputs": [
    {
     "data": {
      "image/png": "[encoded data removed]",
      "text/plain": [
       "<matplotlib.figure.Figure at 0x1a16ac2ba8>"
      ]
     },
     "metadata": {},
     "output_type": "display_data"
    }
   ],
   "source": [
    "f=Kmeans(3)\n",
    "f.fit(data)\n",
    "plt.plot(range(1,len(x.inertia)+1),x.inertia)\n",
    "plt.title(\"Inertia (SSE)\")\n",
    "plt.xlabel(\"iteration\")\n",
    "plt.ylabel(\"inertia\");\n"
   ]
  },
  {
   "cell_type": "markdown",
   "metadata": {},
   "source": [
    "How do we know which *k*-value is appropriate? We can plot the SSE's over a given range of *k* and find a value of *k* where there is a steep change or elbow. In this case, 3 seems more than appropriate.  \n",
    "\n",
    "We can also use a **silhouette_score** to properly identify k-values. Typically, the closer a silhouette score score is to 1, the more resolved a cluster is. In this case, we don't see anything special, but a *k* value of 3 has a decently high score. We can then conclude that a 3 cluster model is the most appropriate given the dataset."
   ]
  },
  {
   "cell_type": "code",
   "execution_count": 117,
   "metadata": {},
   "outputs": [],
   "source": [
    "k_iters=range(2,7)\n",
    "SSE=[]\n",
    "silh=[]\n",
    "for i in k_iters:\n",
    "    x=Kmeans(i)\n",
    "    x.fit(data)\n",
    "    SSE.append(x.SSE())\n",
    "    silh.append(silhouette_score(data,x.clusters()))"
   ]
  },
  {
   "cell_type": "code",
   "execution_count": 118,
   "metadata": {},
   "outputs": [
    {
     "data": {
      "text/plain": [
       "Text(0,0.5,'Silhouette Score')"
      ]
     },
     "execution_count": 118,
     "metadata": {},
     "output_type": "execute_result"
    },
    {
     "data": {
      "image/png": "[encoded data removed]",
      "text/plain": [
       "<matplotlib.figure.Figure at 0x1a17172dd8>"
      ]
     },
     "metadata": {},
     "output_type": "display_data"
    }
   ],
   "source": [
    "\n",
    "sns.set_style(\"whitegrid\")\n",
    "plt.figure(figsize=(12,4))\n",
    "\n",
    "plt.subplot(1, 2, 1)\n",
    "plt.plot(range(2,len(SSE)+2),SSE)\n",
    "plt.title(\"Inertia (SSE) across k clusters\")\n",
    "plt.xlabel(\"k-value\")\n",
    "plt.ylabel(\"Inertia\")\n",
    "\n",
    "plt.subplot(1, 2, 2)\n",
    "plt.plot(range(2,len(silh)+2),silh)\n",
    "plt.title(\"Silhouette Score across k clusters\")\n",
    "plt.xlabel(\"k-value\")\n",
    "plt.ylabel(\"Silhouette Score\")"
   ]
  },
  {
   "cell_type": "markdown",
   "metadata": {},
   "source": [
    "Now that we have established a proper *k* value, let's plug it into our Kmeans model and visualize the clusters."
   ]
  },
  {
   "cell_type": "code",
   "execution_count": 127,
   "metadata": {},
   "outputs": [],
   "source": [
    "x=Kmeans(3)\n",
    "x.fit(data)\n",
    "df['class']=x.clusters()\n",
    "df.columns=['slength','swidth','plength','pwidth','label','cluster']"
   ]
  },
  {
   "cell_type": "code",
   "execution_count": 128,
   "metadata": {
    "scrolled": false
   },
   "outputs": [
    {
     "data": {
      "text/plain": [
       "<seaborn.axisgrid.FacetGrid at 0x1a17c272e8>"
      ]
     },
     "execution_count": 128,
     "metadata": {},
     "output_type": "execute_result"
    },
    {
     "data": {
      "text/plain": [
       "<matplotlib.figure.Figure at 0x1a17cde080>"
      ]
     },
     "metadata": {},
     "output_type": "display_data"
    },
    {
     "data": {
      "image/png": "[encoded data removed]",
      "text/plain": [
       "<matplotlib.figure.Figure at 0x1a17bd0208>"
      ]
     },
     "metadata": {},
     "output_type": "display_data"
    },
    {
     "data": {
      "image/png": "[encoded data removed]",
      "text/plain": [
       "<matplotlib.figure.Figure at 0x1a17edfa90>"
      ]
     },
     "metadata": {},
     "output_type": "display_data"
    }
   ],
   "source": [
    "plt.figure(figsize=(6,6))\n",
    "sns.lmplot(data=df ,x='slength', y='plength',hue='label',\n",
    "                   fit_reg=False, legend=True, legend_out=False)\n",
    "\n",
    "sns.lmplot(data=df ,x='slength', y='plength',hue='cluster',\n",
    "                   fit_reg=False, legend=True, legend_out=False)"
   ]
  },
  {
   "cell_type": "markdown",
   "metadata": {},
   "source": [
    "Just for fun, lets see how close our unsupervised labels match the actual classification"
   ]
  },
  {
   "cell_type": "code",
   "execution_count": 129,
   "metadata": {},
   "outputs": [],
   "source": [
    "label_dict= {'Iris-setosa':0,'Iris-virginica':2,'Iris-versicolor':1}"
   ]
  },
  {
   "cell_type": "code",
   "execution_count": 130,
   "metadata": {},
   "outputs": [],
   "source": [
    "df['cluster_label']=[label_dict.get(x) for x in df.label]\n",
    "accuracy=numpy.sum(df.cluster_label==df.cluster)/len(df)"
   ]
  },
  {
   "cell_type": "code",
   "execution_count": 131,
   "metadata": {},
   "outputs": [
    {
     "data": {
      "text/plain": [
       "0.8866666666666667"
      ]
     },
     "execution_count": 131,
     "metadata": {},
     "output_type": "execute_result"
    }
   ],
   "source": [
    "accuracy"
   ]
  },
  {
   "cell_type": "markdown",
   "metadata": {},
   "source": [
    "Not Bad for some unsupervised Learning! Lets see how it fares against sklearn's Kmeans:"
   ]
  },
  {
   "cell_type": "code",
   "execution_count": 132,
   "metadata": {},
   "outputs": [],
   "source": [
    "from sklearn.cluster import KMeans\n",
    "z=KMeans(3)"
   ]
  },
  {
   "cell_type": "code",
   "execution_count": 133,
   "metadata": {},
   "outputs": [
    {
     "data": {
      "text/plain": [
       "KMeans(algorithm='auto', copy_x=True, init='k-means++', max_iter=300,\n",
       "    n_clusters=3, n_init=10, n_jobs=1, precompute_distances='auto',\n",
       "    random_state=None, tol=0.0001, verbose=0)"
      ]
     },
     "execution_count": 133,
     "metadata": {},
     "output_type": "execute_result"
    }
   ],
   "source": [
    "z.fit(data)"
   ]
  },
  {
   "cell_type": "code",
   "execution_count": 134,
   "metadata": {},
   "outputs": [
    {
     "data": {
      "text/plain": [
       "array([1, 1, 1, 1, 1, 1, 1, 1, 1, 1, 1, 1, 1, 1, 1, 1, 1, 1, 1, 1, 1, 1,\n",
       "       1, 1, 1, 1, 1, 1, 1, 1, 1, 1, 1, 1, 1, 1, 1, 1, 1, 1, 1, 1, 1, 1,\n",
       "       1, 1, 1, 1, 1, 1, 2, 2, 0, 2, 2, 2, 2, 2, 2, 2, 2, 2, 2, 2, 2, 2,\n",
       "       2, 2, 2, 2, 2, 2, 2, 2, 2, 2, 2, 0, 2, 2, 2, 2, 2, 2, 2, 2, 2, 2,\n",
       "       2, 2, 2, 2, 2, 2, 2, 2, 2, 2, 2, 2, 0, 2, 0, 0, 0, 0, 2, 0, 0, 0,\n",
       "       0, 0, 0, 2, 2, 0, 0, 0, 0, 2, 0, 2, 0, 2, 0, 0, 2, 2, 0, 0, 0, 0,\n",
       "       0, 2, 0, 0, 0, 0, 2, 0, 0, 0, 2, 0, 0, 0, 2, 0, 0, 2], dtype=int32)"
      ]
     },
     "execution_count": 134,
     "metadata": {},
     "output_type": "execute_result"
    }
   ],
   "source": [
    "z.labels_"
   ]
  },
  {
   "cell_type": "code",
   "execution_count": 135,
   "metadata": {},
   "outputs": [],
   "source": [
    "df['SKL']=z.labels_"
   ]
  },
  {
   "cell_type": "code",
   "execution_count": 136,
   "metadata": {},
   "outputs": [],
   "source": [
    "sklabel_dict= {1:0,2:1,0:2}"
   ]
  },
  {
   "cell_type": "code",
   "execution_count": 137,
   "metadata": {},
   "outputs": [],
   "source": [
    "df['SKL']=[sklabel_dict.get(x) for x in df.SKL]"
   ]
  },
  {
   "cell_type": "code",
   "execution_count": 138,
   "metadata": {},
   "outputs": [],
   "source": [
    "accuracy=numpy.sum(df.cluster_label==df.SKL)/len(df)"
   ]
  },
  {
   "cell_type": "code",
   "execution_count": 139,
   "metadata": {},
   "outputs": [
    {
     "data": {
      "text/plain": [
       "0.8933333333333333"
      ]
     },
     "execution_count": 139,
     "metadata": {},
     "output_type": "execute_result"
    }
   ],
   "source": [
    "accuracy"
   ]
  },
  {
   "cell_type": "code",
   "execution_count": null,
   "metadata": {},
   "outputs": [],
   "source": []
  }
 ],
 "metadata": {
  "kernelspec": {
   "display_name": "Python 3",
   "language": "python",
   "name": "python3"
  },
  "language_info": {
   "codemirror_mode": {
    "name": "ipython",
    "version": 3
   },
   "file_extension": ".py",
   "mimetype": "text/x-python",
   "name": "python",
   "nbconvert_exporter": "python",
   "pygments_lexer": "ipython3",
   "version": "3.6.4"
  }
 },
 "nbformat": 4,
 "nbformat_minor": 2
}
